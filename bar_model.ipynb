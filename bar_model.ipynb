{
 "cells": [
  {
   "cell_type": "code",
   "execution_count": 157,
   "metadata": {
    "collapsed": false,
    "scrolled": true
   },
   "outputs": [],
   "source": [
    "# K_nl, I_nl\n",
    "import numpy as np\n",
    "from scipy.special import gamma\n",
    "from math import factorial\n",
    "from __future__ import division\n",
    "\n",
    "def diracdelta(m,n):\n",
    "    if m == n:\n",
    "        return 1\n",
    "    else:\n",
    "        return 0\n",
    "\n",
    "def Knl(n,l):\n",
    "    return(0.5*n*(n + 4*l + 3) + (l + 1)*(2*l + 1))\n",
    "\n",
    "def Inl(n,l,m):\n",
    "    if m<=l:\n",
    "        return(Knl(n,l)*1/(2**(8*l + 6))*gamma(n + 4*l + 3)/(factorial(n)*(n + 2*l + 3/2) *\\\n",
    "             (gamma(2*l + 3/2))**2 )*(1 + diracdelta(m,0))*np.pi*2/(2*l + 1)*(factorial(l + m)/factorial(l - m)))\n",
    "    else:\n",
    "        return('m must be smaller or equal to l') # just a temporary solution for bad input"
   ]
  },
  {
   "cell_type": "code",
   "execution_count": 152,
   "metadata": {
    "collapsed": false
   },
   "outputs": [],
   "source": [
    "#ksi, RRr - for evaluation of Anlm; not used yet\n",
    "from scipy.special import gegenbauer\n",
    "\n",
    "def RRr(n,l,r):\n",
    "    rs = 1. #kpc !!!\n",
    "    ksi = (r - 1)/(r + 1)\n",
    "    return((r/rs)**l/((1 + r/rs)**(2*l + 1))*r**2)#*gegenbauer(n, 2*l + 3/2, ksi))"
   ]
  },
  {
   "cell_type": "code",
   "execution_count": 159,
   "metadata": {
    "collapsed": false
   },
   "outputs": [
    {
     "name": "stdout",
     "output_type": "stream",
     "text": [
      "0.00437697105888\n"
     ]
    }
   ],
   "source": [
    "#Phinlm, transform\n",
    "from scipy.special import lpmv # http://docs.scipy.org/doc/scipy-0.17.0/reference/generated/scipy.special.lpmv.html\n",
    "from scipy.special import eval_gegenbauer\n",
    "    \n",
    "def transform(r = False, theta = False, rho = False, z = False): # (r, theta, phi) <-> (rho, phi, z)\n",
    "    if not theta and not r:\n",
    "        return(np.sqrt(rho**2 + z**2), np.arccos(z/np.sqrt(rho**2 + z**2))) # (rho, z) transformed to (r, theta)\n",
    "    elif not z and not rho:\n",
    "        return(r*np.sin(theta), r*np.cos(theta)) # (r, theta) transformed to (rho, z)\n",
    "    else:\n",
    "        return('please specify coordinates you wish to transform') # should be unnecessary later on\n",
    "        \n",
    "def Phinlm(n,l,m,r,phi,z):\n",
    "    r, theta = transform(rho = r, z = z)\n",
    "    s = r/1. # 1. is in kpc!!!!!\n",
    "    return(s**l/((1 + s)**(2*l + 1))*eval_gegenbauer(n, 2*l + 3/2, (s - 1)/(s + 1))*np.cos(m*phi)*lpmv(m, l, np.cos(theta)))\n",
    "print(Phinlm(1,3,1,3,1,1))"
   ]
  },
  {
   "cell_type": "code",
   "execution_count": 154,
   "metadata": {
    "collapsed": false
   },
   "outputs": [],
   "source": [
    "#Anlm\n",
    "'''\n",
    "import scipy.integrate as integrate # http://docs.scipy.org/doc/scipy/reference/tutorial/integrate.html\n",
    "def Anlm(n,l,m,r,theta,phi):\n",
    "    return(None)\n",
    "'''\n",
    "Anlm = np.array([\n",
    "        [ 0,  0,  0,  1.509],\n",
    "        [ 1,  0,  0, -0.086],\n",
    "        [ 2,  0,  0, -0.033],\n",
    "        [ 3,  0,  0, -0.020],\n",
    "        [ 0,  2,  0, -2.606],\n",
    "        [ 1,  2,  0, -0.221],\n",
    "        [ 2,  2,  0, -0.001],\n",
    "        [ 0,  2,  2,  0.665],\n",
    "        [ 1,  2,  2,  0.129],\n",
    "        [ 2,  2,  2,  0.006],\n",
    "        [ 0,  4,  0,  6.406],\n",
    "        [ 1,  4,  0,  1.295],\n",
    "        [ 0,  4,  2, -0.660],\n",
    "        [ 1,  4,  2, -0.140],\n",
    "        [ 0,  4,  4,  0.044],\n",
    "        [ 1,  4,  4, -0.012],\n",
    "        [ 0,  6,  0, -5.859],\n",
    "        [ 0,  6,  2,  0.984],\n",
    "        [ 0,  6,  4, -0.030],\n",
    "        [ 0,  6,  6,  0.001],])"
   ]
  },
  {
   "cell_type": "code",
   "execution_count": 155,
   "metadata": {
    "collapsed": false
   },
   "outputs": [
    {
     "name": "stdout",
     "output_type": "stream",
     "text": [
      "0.331592652133\n"
     ]
    }
   ],
   "source": [
    "#Phi\n",
    "\n",
    "def Phi(r,phi,z):\n",
    "    # the constant (GM_{bar}/r_s) is set to one... but is that correct...? Now I don't think so...\n",
    "    Phisum = 0\n",
    "    for i in range(len(Anlm)):\n",
    "        Phisum += Anlm[i,3]*Phinlm(Anlm[i,0], Anlm[i,1], Anlm[i,2], r, phi, z)\n",
    "    return(Phisum)\n",
    "print(Phi(3,1,1))"
   ]
  },
  {
   "cell_type": "code",
   "execution_count": 160,
   "metadata": {
    "collapsed": true
   },
   "outputs": [
    {
     "data": {
      "image/png": "[encoded data removed]",
      "text/plain": [
       "<matplotlib.figure.Figure at 0x7f323f731c18>"
      ]
     },
     "metadata": {},
     "output_type": "display_data"
    }
   ],
   "source": [
    "import matplotlib.pyplot as plt\n",
    "%matplotlib inline\n",
    "\n",
    "M_bar = 2.0*10**10 #M_sun \n",
    "x_0 = 1.49 #kpc\n",
    "y_0 = 0.58 #kpc\n",
    "z_0 = 0.40 #kpc\n",
    "q = 0.6\n",
    "rho_0 = 1 #!!!!!!!!!!!!!!!!!!!\n",
    "\n",
    "def rho(r, phi, z, x_0 = 1.49, y_0 = 0.58, z_0 = 0.40, q = 0.6, rho_0 = 1): # units!!!!!\n",
    "    x = r*np.cos(phi)\n",
    "    y = r*np.sin(phi)\n",
    "    lrho = []\n",
    "    r_1 = (((x/x_0)**2 + (y/y_0)**2)**2 + (z/z_0)**4)**0.25\n",
    "    r_2 = ((q**2*(x**2 + y**2) + z**2)/z_0**2)**0.5\n",
    "    for i in range(len(r_1)):\n",
    "        lrho.append(rho_0*(np.exp(-r_1[i]**2/2.) + r_2[i]**(-1.85)*np.exp(-r_2[i])))\n",
    "    return(lrho)     \n",
    "\n",
    "r = np.linspace(0.1, 2.0, 61)\n",
    "phi = np.zeros(len(x))\n",
    "z = np.zeros(len(x))\n",
    "\n",
    "for i in range(10):\n",
    "    plt.plot(r, rho(x,phi,(z+i)/10))\n",
    "\n",
    "plt.show()"
   ]
  },
  {
   "cell_type": "code",
   "execution_count": null,
   "metadata": {
    "collapsed": true
   },
   "outputs": [],
   "source": []
  }
 ],
 "metadata": {
  "kernelspec": {
   "display_name": "Python 3",
   "language": "python",
   "name": "python3"
  },
  "language_info": {
   "codemirror_mode": {
    "name": "ipython",
    "version": 3
   },
   "file_extension": ".py",
   "mimetype": "text/x-python",
   "name": "python",
   "nbconvert_exporter": "python",
   "pygments_lexer": "ipython3",
   "version": "3.5.1"
  }
 },
 "nbformat": 4,
 "nbformat_minor": 0
}
