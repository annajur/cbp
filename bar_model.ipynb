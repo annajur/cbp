{
 "cells": [
  {
   "cell_type": "code",
   "execution_count": 87,
   "metadata": {
    "collapsed": false,
    "scrolled": true
   },
   "outputs": [
    {
     "data": {
      "text/plain": [
       "'m must be smaller or equal to l'"
      ]
     },
     "execution_count": 87,
     "metadata": {},
     "output_type": "execute_result"
    }
   ],
   "source": [
    "# K_nl, I_nl\n",
    "import numpy as np\n",
    "from scipy.special import gamma\n",
    "from math import pi\n",
    "from math import factorial\n",
    "from __future__ import division\n",
    "\n",
    "def diracdelta(m):\n",
    "    if m == 0:\n",
    "        return 1\n",
    "    else:\n",
    "        return 0\n",
    "\n",
    "def Knl(n,l):\n",
    "    return(0.5*n*(n + 4*l + 3) + (l + 1)*(2*l + 1))\n",
    "\n",
    "def Inl(n,l,m):\n",
    "    if m<=l:\n",
    "        return(Knl(n,l)*1/(2**(8*l + 6))*gamma(n + 4*l + 3)/(factorial(n)*(n + 2*l + 3/2) *\\\n",
    "             (gamma(2*l + 3/2))**2 )*(1 + diracdelta(m))*pi*2/(2*l + 1)*(factorial(l + m)/factorial(l - m)))\n",
    "    else:\n",
    "        return('m must be smaller or equal to l') # just a temporary solution for bad input\n",
    "\n",
    "Inl(1,2,3)"
   ]
  },
  {
   "cell_type": "code",
   "execution_count": 89,
   "metadata": {
    "collapsed": false
   },
   "outputs": [
    {
     "data": {
      "text/plain": [
       "(poly1d([ 1.        ,  0.        , -0.15789474,  0.        ]),\n",
       " scipy.special.orthogonal.orthopoly1d)"
      ]
     },
     "execution_count": 89,
     "metadata": {},
     "output_type": "execute_result"
    }
   ],
   "source": [
    "#ksi, RRr\n",
    "from scipy.special import gegenbauer\n",
    "\n",
    "def RRr(n,l,r):\n",
    "    rs = 1. #kpc !!!\n",
    "    ksi = (r - 1)/(r + 1)\n",
    "    return((r/rs)**l/((1 + r/rs)**(2*l + 1))*r**2)#*gegenbauer(n, 2*l + 3/2, ksi))\n",
    "        \n",
    "p = gegenbauer(n, 2*l + 3/2, ksi)\n",
    "p, type(p)"
   ]
  },
  {
   "cell_type": "code",
   "execution_count": 90,
   "metadata": {
    "collapsed": false
   },
   "outputs": [
    {
     "name": "stdout",
     "output_type": "stream",
     "text": [
      "0.00419734230875\n"
     ]
    }
   ],
   "source": [
    "#Phinlm, transform\n",
    "from math import cos\n",
    "from math import acos\n",
    "from scipy.special import lpmv # http://docs.scipy.org/doc/scipy-0.17.0/reference/generated/scipy.special.lpmv.html\n",
    "from scipy.special import eval_gegenbauer\n",
    "    \n",
    "def transform(r,theta = False, z = False):\n",
    "    if not theta:\n",
    "        return(acos(z/r)) # z transformed to theta\n",
    "    elif not z:\n",
    "        return(r*cos(theta)) # theta transformed to z\n",
    "    else:\n",
    "        return('please specify what you wish to transform') # should be unnecessary later on\n",
    "        \n",
    "def Phinlm(n,l,m,r,phi, z):\n",
    "    theta = transform(r, z = z)\n",
    "    s = r/1. # 1. is in kpc!!!!!\n",
    "    return(s**l/((1 + s)**(2*l + 1))*eval_gegenbauer(n, 2*l + 3/2, (s - 1)/(s + 1))*cos(m*phi)*lpmv(m, l, cos(theta)))\n",
    "print(Phinlm(1,3,1,3,1,1))"
   ]
  },
  {
   "cell_type": "code",
   "execution_count": 91,
   "metadata": {
    "collapsed": true
   },
   "outputs": [],
   "source": [
    "import scipy.integrate as integrate # http://docs.scipy.org/doc/scipy/reference/tutorial/integrate.html"
   ]
  },
  {
   "cell_type": "code",
   "execution_count": 92,
   "metadata": {
    "collapsed": true
   },
   "outputs": [],
   "source": [
    "#Anlm\n",
    "\n",
    "def Anlm(n,l,m,r,theta,phi):\n",
    "    return(None)"
   ]
  },
  {
   "cell_type": "code",
   "execution_count": null,
   "metadata": {
    "collapsed": true
   },
   "outputs": [],
   "source": [
    "#Phi\n",
    "\n",
    "def Phi(r,phi,z):\n",
    "    return(None)"
   ]
  }
 ],
 "metadata": {
  "kernelspec": {
   "display_name": "Python 3",
   "language": "python",
   "name": "python3"
  },
  "language_info": {
   "codemirror_mode": {
    "name": "ipython",
    "version": 3
   },
   "file_extension": ".py",
   "mimetype": "text/x-python",
   "name": "python",
   "nbconvert_exporter": "python",
   "pygments_lexer": "ipython3",
   "version": "3.5.1"
  }
 },
 "nbformat": 4,
 "nbformat_minor": 0
}
